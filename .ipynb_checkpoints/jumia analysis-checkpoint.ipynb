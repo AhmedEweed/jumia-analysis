{
 "cells": [
  {
   "cell_type": "code",
   "execution_count": 1,
   "metadata": {},
   "outputs": [],
   "source": [
    "import pandas as pd"
   ]
  },
  {
   "cell_type": "markdown",
   "metadata": {},
   "source": [
    "## Collect Data"
   ]
  },
  {
   "cell_type": "code",
   "execution_count": 2,
   "metadata": {},
   "outputs": [],
   "source": [
    "df = pd.read_excel('Raw_data.xlsx')"
   ]
  },
  {
   "cell_type": "code",
   "execution_count": 3,
   "metadata": {},
   "outputs": [],
   "source": [
    "tiers = pd.read_excel('Tiers.xlsx')"
   ]
  },
  {
   "cell_type": "markdown",
   "metadata": {},
   "source": [
    "## Assess Data"
   ]
  },
  {
   "cell_type": "code",
   "execution_count": 4,
   "metadata": {},
   "outputs": [],
   "source": [
    "Tier1 = tiers[tiers['DSC_TIER'] == 'TIER1'].index\n",
    "Tier2 = tiers[tiers['DSC_TIER'] == 'TIER2'].index\n",
    "Tier3 = tiers[tiers['DSC_TIER'] == 'TIER3'].index\n",
    "Tier4 = tiers[tiers['DSC_TIER'] == 'TIER4'].index\n",
    "T1 = []\n",
    "T2 = []\n",
    "T3 = []\n",
    "T4 = []"
   ]
  },
  {
   "cell_type": "code",
   "execution_count": 5,
   "metadata": {},
   "outputs": [],
   "source": [
    "for i in Tier1:\n",
    "    T1.append(tiers['DSC_CITY'][i])\n",
    "for i in Tier2:\n",
    "    T2.append(tiers['DSC_CITY'][i])\n",
    "for i in Tier3:\n",
    "    T3.append(tiers['DSC_CITY'][i])\n",
    "for i in Tier4:\n",
    "    T4.append(tiers['DSC_CITY'][i])"
   ]
  },
  {
   "cell_type": "code",
   "execution_count": 6,
   "metadata": {},
   "outputs": [],
   "source": [
    "def to_tier(row):\n",
    "    if row['Region'] in T1:\n",
    "        return 'Tier1'\n",
    "    elif row['Region'] in T2:\n",
    "        return 'Tier2'\n",
    "    elif row['Region'] in T3:\n",
    "        return 'Tier3'\n",
    "    elif row['Region'] in T4:\n",
    "        return 'Tier4'"
   ]
  },
  {
   "cell_type": "code",
   "execution_count": 7,
   "metadata": {},
   "outputs": [],
   "source": [
    "region = tiers['DSC_CITY'].unique()"
   ]
  },
  {
   "cell_type": "code",
   "execution_count": 8,
   "metadata": {
    "scrolled": true
   },
   "outputs": [],
   "source": [
    "city = tiers['DSC_REGION'].unique()"
   ]
  },
  {
   "cell_type": "code",
   "execution_count": 9,
   "metadata": {},
   "outputs": [
    {
     "name": "stdout",
     "output_type": "stream",
     "text": [
      "<class 'pandas.core.frame.DataFrame'>\n",
      "RangeIndex: 304392 entries, 0 to 304391\n",
      "Data columns (total 42 columns):\n",
      "Tracking #                  304392 non-null object\n",
      "Hub                         304392 non-null object\n",
      "Aging                       303573 non-null float64\n",
      "Schedule date               23182 non-null float64\n",
      "Location                    228 non-null object\n",
      "# of attempts               304392 non-null int64\n",
      "Client name                 234249 non-null object\n",
      "Client last name            287923 non-null object\n",
      "Phone                       287608 non-null object\n",
      "Street                      287595 non-null object\n",
      "Region                      267145 non-null object\n",
      "City                        253853 non-null object\n",
      "Locality                    0 non-null float64\n",
      "Post-code                   3529 non-null object\n",
      "Amount to Collect           223567 non-null float64\n",
      "Collected amount            221899 non-null float64\n",
      "Notes                       48061 non-null object\n",
      "Service Code                304392 non-null object\n",
      "Service Code Description    304392 non-null object\n",
      "Payment Method              223567 non-null object\n",
      "Package Status              304392 non-null object\n",
      "Last failure reason         12111 non-null object\n",
      "Attempt user name           245852 non-null object\n",
      "Company                     304392 non-null object\n",
      "Operation Date              304392 non-null datetime64[ns]\n",
      "Movable unit #              946 non-null object\n",
      "Runsheet name               1100 non-null object\n",
      "Runsheet driver             1111 non-null object\n",
      "Collected date #            175845 non-null datetime64[ns]\n",
      "Delivered date #            221734 non-null float64\n",
      "Package date #              304392 non-null datetime64[ns]\n",
      "Service date #              304392 non-null datetime64[ns]\n",
      "Order number                304392 non-null object\n",
      "Order date                  304392 non-null datetime64[ns]\n",
      "Shipment service            304392 non-null object\n",
      "Airway bill number          10483 non-null float64\n",
      "Weight                      13979 non-null object\n",
      "Length                      13979 non-null object\n",
      "Width                       13979 non-null object\n",
      "Height                      13979 non-null object\n",
      "Refunded                    304392 non-null bool\n",
      "Delayed                     138680 non-null float64\n",
      "dtypes: bool(1), datetime64[ns](5), float64(8), int64(1), object(27)\n",
      "memory usage: 95.5+ MB\n"
     ]
    }
   ],
   "source": [
    "df.info()"
   ]
  },
  {
   "cell_type": "markdown",
   "metadata": {},
   "source": [
    "## Clean\n",
    "<a name='clean'></a>"
   ]
  },
  {
   "cell_type": "code",
   "execution_count": 52,
   "metadata": {
    "scrolled": false
   },
   "outputs": [],
   "source": [
    "# keep only reasons with first 4 letters and ignore nulls\n",
    "reason = list(df[df['Last failure reason'].notnull()].index)"
   ]
  },
  {
   "cell_type": "code",
   "execution_count": 53,
   "metadata": {},
   "outputs": [
    {
     "name": "stderr",
     "output_type": "stream",
     "text": [
      "/home/ahmedeweed/anaconda3/lib/python3.7/site-packages/ipykernel_launcher.py:2: SettingWithCopyWarning: \n",
      "A value is trying to be set on a copy of a slice from a DataFrame\n",
      "\n",
      "See the caveats in the documentation: http://pandas.pydata.org/pandas-docs/stable/indexing.html#indexing-view-versus-copy\n",
      "  \n"
     ]
    }
   ],
   "source": [
    "for i in reason:\n",
    "    df['Last failure reason'][i] = df['Last failure reason'][i][:4]"
   ]
  },
  {
   "cell_type": "code",
   "execution_count": 54,
   "metadata": {},
   "outputs": [
    {
     "data": {
      "text/plain": [
       "304387     NaN\n",
       "304388    RS01\n",
       "304389     NaN\n",
       "304390     NaN\n",
       "304391     NaN\n",
       "Name: Last failure reason, dtype: object"
      ]
     },
     "execution_count": 54,
     "metadata": {},
     "output_type": "execute_result"
    }
   ],
   "source": [
    "df['Last failure reason'].tail()"
   ]
  },
  {
   "cell_type": "code",
   "execution_count": 55,
   "metadata": {},
   "outputs": [],
   "source": [
    "for i in range(len(df)):\n",
    "    if df['Region'][i] not in region:\n",
    "        df['Region'] = df['Region'].drop(i)"
   ]
  },
  {
   "cell_type": "code",
   "execution_count": 56,
   "metadata": {},
   "outputs": [
    {
     "data": {
      "text/plain": [
       "574"
      ]
     },
     "execution_count": 56,
     "metadata": {},
     "output_type": "execute_result"
    }
   ],
   "source": [
    "df['Region'].nunique()"
   ]
  },
  {
   "cell_type": "code",
   "execution_count": 57,
   "metadata": {},
   "outputs": [],
   "source": [
    "df['Tier'] = df.apply(lambda row: to_tier(row), axis = 1)"
   ]
  },
  {
   "cell_type": "markdown",
   "metadata": {},
   "source": [
    "## Answers"
   ]
  },
  {
   "cell_type": "markdown",
   "metadata": {},
   "source": [
    "#### 1- Find how many orders have been Delivered or Completed by each services provider at each Tier."
   ]
  },
  {
   "cell_type": "code",
   "execution_count": 115,
   "metadata": {
    "scrolled": false
   },
   "outputs": [
    {
     "data": {
      "text/plain": [
       "Hub                                         Tier \n",
       "EG - 3PL - EGL Cairo                        Tier1       11\n",
       "EG- Nasr City-Station                       Tier1     1628\n",
       "EG-2 brothers DS Marketplace-Station        Tier1        5\n",
       "EG-3PL-Best Express                         Tier1       73\n",
       "                                            Tier2        1\n",
       "EG-3PL-Fetchr-Tier2                         Tier2     7358\n",
       "EG-3agltak DS Marketplace-Station           Tier1        4\n",
       "                                            Tier2        1\n",
       "EG-Aftersales-RTV                           Tier1      263\n",
       "                                            Tier2      113\n",
       "                                            Tier3       23\n",
       "                                            Tier4        5\n",
       "EG-Art Home DS Marketplace-Station          Tier1      558\n",
       "                                            Tier2      150\n",
       "                                            Tier4        1\n",
       "EG-Artcool Group DS Marketplace-Station     Tier1       44\n",
       "                                            Tier2        4\n",
       "EG-Aswaq el tawheed DS Marketplace-Station  Tier1      276\n",
       "                                            Tier2       13\n",
       "                                            Tier4        1\n",
       "EG-Blue Tech DS Marketplace-Station         Tier1       18\n",
       "EG-Bomba DS Marketplace-Station             Tier1      256\n",
       "                                            Tier2       32\n",
       "                                            Tier4        3\n",
       "EG-Bosta                                    Tier1     2333\n",
       "                                            Tier2      206\n",
       "EG-Bosta-Alexandria                         Tier1        1\n",
       "                                            Tier2     1101\n",
       "EG-Bosta-Delta                              Tier1        2\n",
       "                                            Tier2     1046\n",
       "                                                     ...  \n",
       "EG-Successful Pickups-Station               Tier1        1\n",
       "                                            Tier2        1\n",
       "                                            Tier4        1\n",
       "EG-Tanta 2 VDO Station                      Tier2        1\n",
       "EG-Time Trade DS MArketplace-Station        Tier1        2\n",
       "EG-Top DS Marketplace-Station               Tier1       41\n",
       "                                            Tier2        1\n",
       "EG-Tredco DS Marketplace-Station            Tier1       14\n",
       "                                            Tier4        1\n",
       "EG-Turboline Egypt DS Marketplace-Station   Tier1       19\n",
       "                                            Tier2        3\n",
       "                                            Tier3        1\n",
       "                                            Tier4        1\n",
       "EG-Union Trade DS Marketplace-Station       Tier1       24\n",
       "                                            Tier2        7\n",
       "                                            Tier3        2\n",
       "                                            Tier4        2\n",
       "EG-Var-AramexAPI                            Tier1     1597\n",
       "                                            Tier2      621\n",
       "                                            Tier3     2063\n",
       "                                            Tier4     3753\n",
       "EG-Var-Fetchr                               Tier2        1\n",
       "EG-Var-R2S New Cairo                        Tier1    11325\n",
       "EG-Var-Runners                              Tier1     4059\n",
       "EG-Warehouse-Fleet                          Tier1        6\n",
       "EG-White Cool DS Marketplace-Station        Tier1       20\n",
       "                                            Tier2        1\n",
       "EG-Zanussi Egypt DS Marketplace-Station     Tier1        2\n",
       "                                            Tier2        1\n",
       "EG-Zarzour DS Marketplace-Station           Tier1        2\n",
       "Name: Tier, Length: 158, dtype: int64"
      ]
     },
     "execution_count": 115,
     "metadata": {},
     "output_type": "execute_result"
    }
   ],
   "source": [
    "df[df['Package Status'] == 'COMPLETED'].groupby(['Hub', 'Tier'])['Tier'].count()"
   ]
  },
  {
   "cell_type": "markdown",
   "metadata": {},
   "source": [
    "#### 2- Find how many Jumia Express orders have been delivered  \n",
    "#### within and out of Delivery Timeline at each Tier "
   ]
  },
  {
   "cell_type": "markdown",
   "metadata": {},
   "source": [
    "I couldn't resolve the `Delivery date #` column values"
   ]
  },
  {
   "cell_type": "markdown",
   "metadata": {},
   "source": [
    "#### 3- Find how many orders Pending at each hub more than 5 days without attempt  \n",
    "#### and what is the total number of packages for 3PL & CF Teams  \n",
    "#### (any hub contains fleet word consider as CF)"
   ]
  },
  {
   "cell_type": "code",
   "execution_count": 144,
   "metadata": {},
   "outputs": [
    {
     "data": {
      "text/plain": [
       "Tier   # of attempts\n",
       "Tier1  0                662\n",
       "       1                176\n",
       "       2                142\n",
       "       3                 77\n",
       "       4                 49\n",
       "       5                 23\n",
       "       6                  9\n",
       "       7                  7\n",
       "       8                  1\n",
       "       9                  3\n",
       "       10                 5\n",
       "       14                 1\n",
       "       18                 1\n",
       "Tier2  0                294\n",
       "       1                213\n",
       "       2                 37\n",
       "       3                 26\n",
       "       4                 19\n",
       "       5                  8\n",
       "       6                  2\n",
       "       9                  1\n",
       "Tier3  0                182\n",
       "       1                 22\n",
       "       2                  5\n",
       "       3                  2\n",
       "       5                  1\n",
       "Tier4  0                181\n",
       "       1                 48\n",
       "       2                  4\n",
       "       3                  3\n",
       "       4                  1\n",
       "       5                  1\n",
       "Name: Tier, dtype: int64"
      ]
     },
     "execution_count": 144,
     "metadata": {},
     "output_type": "execute_result"
    }
   ],
   "source": [
    "df[df['Package Status'] == 'PENDING'].groupby(['Tier', '# of attempts'])['Tier'].count()"
   ]
  },
  {
   "cell_type": "markdown",
   "metadata": {},
   "source": [
    "#### 4 Find how many orders not delivered yet and passed Our Delivery Timeline at each hub"
   ]
  },
  {
   "cell_type": "markdown",
   "metadata": {},
   "source": [
    "I couldn't resolve the `Delivery date #` column values"
   ]
  },
  {
   "cell_type": "markdown",
   "metadata": {},
   "source": [
    "#### 5- Find the highest hub canceled packages by hubs with CA35 & CA52 reasons"
   ]
  },
  {
   "cell_type": "code",
   "execution_count": 150,
   "metadata": {},
   "outputs": [
    {
     "data": {
      "text/plain": [
       "Hub                      Package Status\n",
       "EG-Field Delivery- HV    LOST                EG-Field Delivery- HV\n",
       "EG-Field Delivery-Cairo  LOST              EG-Field Delivery-Cairo\n",
       "EG-Network-Reverse       LOST                   EG-Network-Reverse\n",
       "EG-Presto-Downtown       PENDING                EG-Presto-Downtown\n",
       "EG-Presto-Heliopolis     LOST                 EG-Presto-Heliopolis\n",
       "Name: Hub, dtype: object"
      ]
     },
     "execution_count": 150,
     "metadata": {},
     "output_type": "execute_result"
    }
   ],
   "source": [
    "df[df['Last failure reason'] == 'CA35'].groupby(['Hub', 'Package Status'])['Hub'].max()"
   ]
  },
  {
   "cell_type": "code",
   "execution_count": 147,
   "metadata": {},
   "outputs": [
    {
     "data": {
      "text/plain": [
       "Series([], Name: Hub, dtype: int64)"
      ]
     },
     "execution_count": 147,
     "metadata": {},
     "output_type": "execute_result"
    }
   ],
   "source": [
    "df[df['Last failure reason'] == 'CA52'].groupby(['Hub', 'Package Status'])['Hub'].count()"
   ]
  },
  {
   "cell_type": "markdown",
   "metadata": {},
   "source": [
    "#### 6- Suppose the order was Jumia express Tier1 and created before 2:00 PM  \n",
    "#### we promised  the customer to delivery the packages Next Day,   \n",
    "#### if not one day after based on the previous scenario,  \n",
    "#### find how many orders placed before 2:00 PM and delivered within our promise."
   ]
  },
  {
   "cell_type": "markdown",
   "metadata": {},
   "source": [
    "I couldn't resolve the `Delivery date #` column values"
   ]
  },
  {
   "cell_type": "markdown",
   "metadata": {},
   "source": [
    "#### 7.1 - use the raw data to share with us a new interesting insights, after applying Data analysis process."
   ]
  },
  {
   "cell_type": "markdown",
   "metadata": {},
   "source": [
    "#### 7.2 - list data analysis process should be used by any data analyst to perform his work."
   ]
  },
  {
   "cell_type": "markdown",
   "metadata": {},
   "source": [
    "    1. Pose questions\n",
    "    2. Collect data\n",
    "    3. Clean data\n",
    "    4. Explore data\n",
    "    5. Draw conclusions\n",
    "    6. Communicate results"
   ]
  },
  {
   "cell_type": "code",
   "execution_count": 151,
   "metadata": {},
   "outputs": [],
   "source": [
    "#cols = ['Tracking #', 'Hub', 'Location', '# of attempts', 'Client name', 'Client last name', 'Amount to Collect',\n",
    "#        'Collected amount', 'Service Code', 'Service Code Description',\n",
    "#        'Payment Method', 'Package Status', 'Last failure reason',\n",
    "#        'Order number', 'Shipment service', 'Airway bill number', 'Refunded', 'Delayed']\n",
    "\n",
    "#dates = ['Schedule date', 'Operation Date',\n",
    "#         'Collected date #', 'Delivered date #',\n",
    "#         'Package date #', 'Service date #', 'Order date'\n",
    "        \n",
    "#        ]\n",
    "#botcol = ['Locality', 'Notes', 'Phone', 'Post-code', 'Street', 'Aging',\n",
    "#          'Movable unit #', 'Runsheet name', 'Runsheet driver', 'Attempt user name', 'Company']\n",
    "\n",
    "#tier = ['Region', 'City']\n",
    "\n",
    "#packcol = ['Weight', 'Length', 'Width', 'Height']"
   ]
  }
 ],
 "metadata": {
  "kernelspec": {
   "display_name": "Python 3",
   "language": "python",
   "name": "python3"
  },
  "language_info": {
   "codemirror_mode": {
    "name": "ipython",
    "version": 3
   },
   "file_extension": ".py",
   "mimetype": "text/x-python",
   "name": "python",
   "nbconvert_exporter": "python",
   "pygments_lexer": "ipython3",
   "version": "3.7.1"
  }
 },
 "nbformat": 4,
 "nbformat_minor": 2
}
